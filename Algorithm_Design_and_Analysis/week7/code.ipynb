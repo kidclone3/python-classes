{
 "cells": [
  {
   "attachments": {},
   "cell_type": "markdown",
   "metadata": {},
   "source": [
    "# Homework 7: Dynamic Programming\n",
    "***Bùi Khánh Duy - 20001898***"
   ]
  },
  {
   "attachments": {},
   "cell_type": "markdown",
   "metadata": {},
   "source": [
    "# I.  Lý thuyết phương pháp\n",
    "***Trình bày (ngắn gọn) ý tưởng, những yếu tố cơ bản và các bước trong thiết kế giải thuật bằng phương pháp quy hoạch động.***\n",
    "\n",
    "Phương pháp quy hoạch động là một kỹ thuật giải quyết các bài toán tối ưu bằng cách chia bài toán thành các bài toán con nhỏ hơn, giải quyết các bài toán con này và kết hợp lại để tìm ra lời giải cho bài toán ban đầu. Ý tưởng cơ bản của phương pháp quy hoạch động là sử dụng kết quả của các bài toán con để giải quyết bài toán lớn hơn, với mục đích tối ưu hóa hàm mục tiêu.\n",
    "\n",
    "Các yếu tố cơ bản của phương pháp quy hoạch động bao gồm:\n",
    "\n",
    "- Tối ưu hóa hàm mục tiêu: Phương pháp quy hoạch động được sử dụng để giải quyết các bài toán tối ưu, trong đó cần tìm ra lời giải tốt nhất cho hàm mục tiêu.\n",
    "- Chia bài toán thành các bài toán con: Bài toán ban đầu được chia thành các bài toán con nhỏ hơn, có thể được giải quyết độc lập với nhau.\n",
    "- Lưu trữ kết quả tính toán: Kết quả tính toán của các bài toán con được lưu trữ để sử dụng trong các bài toán lớn hơn.\n",
    "\n",
    "Các bước trong thiết kế giải thuật bằng phương pháp quy hoạch động bao gồm:\n",
    "\n",
    "1. Xác định cấu trúc của bài toán và đặt ra mục tiêu tối ưu.\n",
    "2. Chia bài toán thành các bài toán con nhỏ hơn.\n",
    "3. Xác định hàm truy xuất và lưu trữ kết quả tính toán của các bài toán con.\n",
    "4. Thiết lập quy tắc cập nhật kết quả tính toán của các bài toán con.\n",
    "5. Giải quyết bài toán ban đầu bằng cách kết hợp các kết quả tính toán của các bài toán con.\n",
    "6. Kiểm tra và tối ưu hóa giải thuật để đảm bảo tính đúng đắn và hiệu quả của giải thuật.\n",
    "\n",
    "Các bước trên sẽ được lặp lại cho đến khi đạt được lời giải tối ưu cho bài toán ban đầu."
   ]
  },
  {
   "attachments": {},
   "cell_type": "markdown",
   "metadata": {},
   "source": [
    "# II. Lập trình\n"
   ]
  },
  {
   "attachments": {},
   "cell_type": "markdown",
   "metadata": {},
   "source": [
    "\n",
    "***Viết chương trình cho các thuật toán đã phân tích và xây dựng (theo bài giảng).***"
   ]
  },
  {
   "attachments": {},
   "cell_type": "markdown",
   "metadata": {},
   "source": [
    "### 1. Bài toán tìm dãy con đơn điệu tăng dài nhất (longest increasing subsequence)\n",
    "\n",
    "**Đặt vấn đề:** Bài toán này là gì?\n",
    "\n",
    "Bài toán đưa ra yêu cầu tìm một dãy con của một dãy số đã cho, sao cho các phần tử trong dãy con này tăng dần theo thứ tự và chiều dài của dãy con này là lớn nhất\n",
    "\n",
    "**Ví dụ:** cho dãy `A = {3, 1, 4, 1, 5, 9, 2, 6, 5, 3, 5}` \n",
    "\n",
    "Dãy con đơn điệu tăng dài nhất của dãy số này là `{1, 2, 5, 6}`. Các dãy con khác như `{1, 4, 5, 6}` hoặc `{1, 2, 3, 5}` là các kết quả khác cho đầu vào này.\n",
    "\n",
    "**Đặt bài toán:** Cho mảng `A` có độ dài $n$, được đánh số từ $0$ đến $n-1$.\n",
    "\n",
    "**Phương pháp giải:**\n",
    "\n",
    "- Cách thông thường: Các bước như sau:\n",
    "    1. Tạo thêm 2 mảng phụ để tính toán, gọi là mảng `B` để lưu vị trí của phần tử nhỏ nhất xuất hiện trước phần tử đang xét, và mảng `C` để tính độ dài của dãy con tăng dài nhất tại vị trí $i$.\n",
    "    2. Sử dụng 2 vòng for để tính toán: Tại vị trí thứ $i$, ta sẽ duyệt ngược các phần tử trước đó, để tìm ra 1 phần tử thoả mãn 2 tiêu chí sau:\n",
    "        1. `A[j] < A[i]`\n",
    "        2. `C[j] max`\n",
    "        \n",
    "        Với $j \\in [0, i-1]$\n",
    "        \n",
    "    3. Lấy ra mảng dãy con tăng dài nhất bằng cách xuất phát từ vị trí có giá trị lớn nhất của mảng `C`.\n",
    "    \n",
    "    **Code:**"
   ]
  },
  {
   "cell_type": "code",
   "execution_count": 27,
   "metadata": {},
   "outputs": [
    {
     "name": "stdout",
     "output_type": "stream",
     "text": [
      "[3, 4, 5, 6]\n"
     ]
    }
   ],
   "source": [
    "def LIS_naive(A):\n",
    "    n = len(A)\n",
    "    B = [0 for i in range(n)]\n",
    "    C = [0 for i in range(n)]\n",
    "\n",
    "    for i in range(n):\n",
    "        C[i] = 1\n",
    "        B[i] = i\n",
    "        for j in range(i-1):\n",
    "            if A[j] < A[i] and C[j] >= C[i]:\n",
    "                C[i] = C[j] + 1\n",
    "                B[i] = j\n",
    "    # Trace back to find the LIS\n",
    "    ans = [] # Empty array for answer\n",
    "    # First find the max value and index in C\n",
    "    best_j = C.index(max(C))\n",
    "    while best_j != B[best_j]: # If found index itself => reach the begin\n",
    "        ans.append(A[best_j])\n",
    "        best_j = B[best_j]\n",
    "    # Now add the first element.\n",
    "    ans.append(A[best_j])\n",
    "    return ans[::-1] # return reverse array for output\n",
    "\n",
    "A = [3, 1, 4, 1, 5, 9, 2, 6, 5, 3, 5]\n",
    "print(LIS_naive(A))\n",
    "    \n",
    "\n"
   ]
  },
  {
   "attachments": {},
   "cell_type": "markdown",
   "metadata": {},
   "source": [
    "{3, 4, 5, 6} là kết quả của bài toán này. \n",
    "\n",
    "Đô phức tạp thuật toán là $O(n^2)$ vì phải chạy 2 vòng for. \n",
    "\n",
    "Độ phức tạp không gian là $O(n)$"
   ]
  },
  {
   "attachments": {},
   "cell_type": "markdown",
   "metadata": {},
   "source": [
    "- Phương pháp quy hoạch động: Có các bước như sau:\n",
    "\n",
    "    1. Tạo 1 mảng phụ $B$ để lưu mảng con tăng dài nhất. Với vị trí $i$ của mảng $B$ tương ứng với dãy con tăng có độ dài $i+1$. Khởi tạo giá trị ban đầu của mảng $B$ là $\\infty$.\n",
    "\n",
    "    2. Duyệt qua lần lượt các phần tử ở mảng $A$. Ở vị trí $A[i]$, ta thực hiện tìm kiếm nhị phân cho phần tử nhỏ nhất mà lớn hơn $A[i]$ trên mảng $B$. Lưu A[i] vào vị trí đó.\n",
    "\n",
    "**Code:**"
   ]
  },
  {
   "cell_type": "code",
   "execution_count": 28,
   "metadata": {},
   "outputs": [
    {
     "name": "stdout",
     "output_type": "stream",
     "text": [
      "[3, 4, 5, 6]\n"
     ]
    }
   ],
   "source": [
    "import bisect\n",
    "def LIS_dp(A):\n",
    "    inf = int(1e9)\n",
    "    n = len(A)\n",
    "    B = [inf for i in range(n+1)]\n",
    "    for i in range(n):\n",
    "        j = bisect.bisect_left(B, A[i], 0, n) # aka find upper bound.\n",
    "        if B[j] != A[j]:\n",
    "            B[j] = A[i]\n",
    "\n",
    "    ans = []\n",
    "    for i in B:\n",
    "        if i == inf:\n",
    "            break    \n",
    "        ans.append(i)\n",
    "    return ans\n",
    "print(LIS_dp(A))\n"
   ]
  },
  {
   "attachments": {},
   "cell_type": "markdown",
   "metadata": {},
   "source": [
    "Kết quả vẫn là `{3, 4, 5, 6}`.\n",
    "\n",
    "Cách này sử dụng tìm kiếm nhị phân nên độ phức tạp sẽ là $O(nlogn)$.\n",
    "\n",
    "Độ phức tạp không gian là $O(n)$."
   ]
  },
  {
   "attachments": {},
   "cell_type": "markdown",
   "metadata": {},
   "source": [
    "**Đánh giá tốc độ chạy của 2 phương pháp bằng biểu đồ**"
   ]
  },
  {
   "cell_type": "code",
   "execution_count": 29,
   "metadata": {},
   "outputs": [
    {
     "data": {
      "image/png": "[encoded data removed]",
      "text/plain": [
       "<Figure size 640x480 with 1 Axes>"
      ]
     },
     "metadata": {},
     "output_type": "display_data"
    }
   ],
   "source": [
    "# Create plot to measure run time of naive method and dp method\n",
    "import time\n",
    "import random\n",
    "import matplotlib.pyplot as plt\n",
    "import numpy as np\n",
    "\n",
    "def plot():\n",
    "    naive_time = []\n",
    "    dp_time = []\n",
    "    for i in range(1, 1000):\n",
    "        A = [random.randint(1, 1000) for i in range(i)]\n",
    "        start = time.time()\n",
    "        LIS_naive(A)\n",
    "        end = time.time()\n",
    "        naive_time.append(end-start)\n",
    "\n",
    "        start = time.time()\n",
    "        LIS_dp(A)\n",
    "        end = time.time()\n",
    "        dp_time.append(end-start)\n",
    "\n",
    "    x = np.linspace(1, 1000, 999)\n",
    "    plt.plot(x, naive_time, label='naive')\n",
    "    plt.plot(x, dp_time, label='dp')\n",
    "    plt.legend()\n",
    "    plt.show()\n",
    "\n",
    "plot()\n"
   ]
  },
  {
   "attachments": {},
   "cell_type": "markdown",
   "metadata": {},
   "source": [
    "Kết quả cho thấy thực sự là thời gian chạy cho thuật toán quy hoạch động nhanh hơn rất nhiều so với thuật toán thông thường."
   ]
  },
  {
   "attachments": {},
   "cell_type": "markdown",
   "metadata": {},
   "source": [
    "### 2. Bài toán xếp balo 0-1 (0-1 knapsack)"
   ]
  },
  {
   "attachments": {},
   "cell_type": "markdown",
   "metadata": {},
   "source": [
    "**Đặt vấn đề**: Bài toán này là gì?\n",
    "\n",
    "Bài toán đưa ra yêu cầu chọn một tập hợp các vật phẩm có giá trị và khối lượng khác nhau để đặt vào một balo có khối lượng giới hạn. Mỗi vật phẩm có thể được chọn hoặc không được chọn, và mỗi vật phẩm chỉ được chọn một lần."
   ]
  },
  {
   "attachments": {},
   "cell_type": "markdown",
   "metadata": {},
   "source": [
    "**Ví dụ**: Cho một balo có khối lượng giới hạn là 10 và danh sách các vật phẩm như sau:\n",
    "\n",
    "- Vật phẩm 1: có giá trị là 6 và khối lượng là 2\n",
    "- Vật phẩm 2: có giá trị là 10 và khối lượng là 5\n",
    "- Vật phẩm 3: có giá trị là 12 và khối lượng là 6\n",
    "- Vật phẩm 4: có giá trị là 8 và khối lượng là 3\n",
    "\n",
    "Bài toán yêu cầu tìm cách chọn một tập hợp các vật phẩm để đặt vào balo, sao cho tổng giá trị của các vật phẩm này là lớn nhất và tổng khối lượng của chúng không vượt quá khối lượng giới hạn của balo (tức là 10).\n",
    "\n",
    "Kết quả của bài toán này là tập hợp các vật phẩm được chọn, trong trường hợp này là vật phẩm 1, 2 và 4, với tổng giá trị = 24 và tổng khối lượng = 10."
   ]
  },
  {
   "attachments": {},
   "cell_type": "markdown",
   "metadata": {},
   "source": [
    "**Đặt bài toán**: Cho 2 mảng $V$ và $W$ có độ dài $n$, được đánh số từ $0$ đến $n-1$. Mảng $V$ lưu giá trị của các vật phẩm, mảng $W$ lưu khối lượng của các vật phẩm. Cho một số $m$ là khối lượng giới hạn của balo."
   ]
  },
  {
   "attachments": {},
   "cell_type": "markdown",
   "metadata": {},
   "source": [
    "**Cách giải**: \n",
    "- Phương pháp ngây thơ (brute force):\n",
    "    - Tạo ra tất cả các tập con có thể có của tập hợp các vật phẩm. Với mỗi tập con, tính tổng giá trị và tổng khối lượng của các vật phẩm trong tập con đó. Nếu tổng khối lượng nhỏ hơn hoặc bằng $m$ và tổng giá trị lớn hơn giá trị hiện tại, thì cập nhật giá trị hiện tại bằng tổng giá trị của tập con đó."
   ]
  },
  {
   "cell_type": "code",
   "execution_count": 31,
   "metadata": {},
   "outputs": [
    {
     "name": "stdout",
     "output_type": "stream",
     "text": [
      "(24, [0, 1, 3])\n"
     ]
    }
   ],
   "source": [
    "def knapsack_naive(V, W, m):\n",
    "    n = len(V)\n",
    "    ans_subset = []\n",
    "    ans_value = 0\n",
    "    for i in range(2**n):\n",
    "        subset = []\n",
    "        value = 0\n",
    "        weight = 0\n",
    "        for j in range(n):\n",
    "            if i & (1 << j):\n",
    "                subset.append(j)\n",
    "                value += V[j]\n",
    "                weight += W[j]\n",
    "        if weight <= m and value > ans_value:\n",
    "            ans_value = value\n",
    "            ans_subset = subset\n",
    "    return ans_value, ans_subset\n",
    "\n",
    "V = [6, 10, 12, 8]\n",
    "W = [2, 5, 6, 3]\n",
    "m = 10\n",
    "print(knapsack_naive(V, W, m))"
   ]
  },
  {
   "attachments": {},
   "cell_type": "markdown",
   "metadata": {},
   "source": [
    "Kết quả của code trả về giá trị tối đa là $24$ với mảng chỉ số các vật phẩm lấy được là `{1, 2, 4}`.\n",
    "\n",
    "Độ phức tạp của thuật toán này là $O(2^n)$.\n",
    "\n",
    "Độ phức tạp không gian là $O(n)$."
   ]
  },
  {
   "attachments": {},
   "cell_type": "markdown",
   "metadata": {},
   "source": [
    "- Phương pháp quy hoạch động:\n",
    "    - Tạo ra một mảng 2 chiều $A$ có kích thước $n \\times m$. Tại vị trí $A[i][j]$, ta lưu giá trị lớn nhất có thể đạt được với $i$ vật phẩm đầu tiên và khối lượng giới hạn là $j$.\n",
    "    - Khởi tạo giá trị ban đầu của mảng $A$ là $0$.\n",
    "    - Duyệt qua lần lượt các vật phẩm từ $0$ đến $n$. Ở vật phẩm thứ $i$, ta duyệt qua lần lượt các khối lượng từ $1$ đến $m$ (bằng biến $j$). Tại mỗi vị trí $A[i][j]$, ta thực hiện tính toán như sau:\n",
    "        - Nếu $W[i] > j$ (khối lượng của vật phẩm lớn hơn khối lượng giới hạn), thì $A[i][j] = A[i-1][j]$ (giá trị lớn nhất có thể đạt được với $i-1$ vật phẩm và khối lượng giới hạn là $j$).\n",
    "        - Nếu $W[i] \\leq j$ (khối lượng của vật phẩm nhỏ hơn hoặc bằng khối lượng giới hạn), thì $A[i][j] = max(A[i-1][j], A[i-1][j-W[i]] + V[i])$ (giá trị lớn nhất có thể đạt được với $i-1$ vật phẩm và khối lượng giới hạn là $j$, hoặc giá trị lớn nhất có thể đạt được với $i-1$ vật phẩm và khối lượng giới hạn là $j-W[i]$ cộng với giá trị của vật phẩm thứ $i$).\n",
    "    - Kết quả của bài toán là $A[n][m]$ (giá trị lớn nhất có thể đạt được với $n$ vật phẩm và khối lượng giới hạn là $m$).\n",
    "\n",
    "**Code:**\n"
   ]
  },
  {
   "cell_type": "code",
   "execution_count": 35,
   "metadata": {},
   "outputs": [
    {
     "name": "stdout",
     "output_type": "stream",
     "text": [
      "(24, [0, 1, 3])\n"
     ]
    }
   ],
   "source": [
    "def knapsack_dp(V, W, m):\n",
    "    n = len(V)\n",
    "    dp = [[0 for j in range(m+1)] for i in range(n+1)]\n",
    "\n",
    "    # Build table for dp from bottom up\n",
    "    for i in range(n+1):\n",
    "        for j in range(m+1):\n",
    "            if i == 0 or j == 0:\n",
    "                dp[i][j] = 0\n",
    "            elif W[i-1] <= j:\n",
    "                dp[i][j] = max(V[i-1] + dp[i-1][j-W[i-1]], dp[i-1][j])\n",
    "            else:\n",
    "                dp[i][j] = dp[i-1][j]\n",
    "\n",
    "    # Answer of knapsack\n",
    "    res = dp[n][m] \n",
    "    # Trace back to find the subset\n",
    "    subset = []\n",
    "    j = m\n",
    "    for i in range(n, 0, -1):\n",
    "        if res <= 0:\n",
    "            break\n",
    "        if res == dp[i-1][j]:\n",
    "            continue\n",
    "        else:\n",
    "            subset.append(i-1)\n",
    "            res = res - V[i-1]\n",
    "            j = j - W[i-1]\n",
    "    return dp[n][m], subset[::-1]\n",
    "\n",
    "print(knapsack_dp(V, W, m))\n"
   ]
  },
  {
   "attachments": {},
   "cell_type": "markdown",
   "metadata": {},
   "source": [
    "Kết quả là $24$ với mảng chỉ số các vật phẩm lấy được là `{1, 2, 4}`.\n",
    "\n",
    "Độ phức tạp của thuật toán này là $O(n\\times m)$.\n",
    "\n",
    "Độ phức tạp không gian là $O(n\\times m)$."
   ]
  },
  {
   "attachments": {},
   "cell_type": "markdown",
   "metadata": {},
   "source": [
    "Và đây là phần bẽ biểu đồ so sánh thời gian chạy của 2 thuật toán trên với $n$ từ $0$ đến $100$:\n",
    "(Ở thuật toán 1 thì n sẽ được chạy đến 20, vì nếu n lớn hơn 20 thì thời gian chạy sẽ quá lâu)"
   ]
  },
  {
   "cell_type": "code",
   "execution_count": 37,
   "metadata": {},
   "outputs": [
    {
     "data": {
      "image/png": "[encoded data removed]",
      "text/plain": [
       "<Figure size 640x480 with 1 Axes>"
      ]
     },
     "metadata": {},
     "output_type": "display_data"
    }
   ],
   "source": [
    "# create plot to measure runtime of naive method and dp method, but limit the size of input for naive to 20\n",
    "def plot():\n",
    "    naive_time = []\n",
    "    dp_time = []\n",
    "    for i in range(1, 20):\n",
    "        A = [random.randint(1, 1000) for i in range(i)]\n",
    "        start = time.time()\n",
    "        LIS_naive(A)\n",
    "        end = time.time()\n",
    "        naive_time.append(end-start)\n",
    "\n",
    "        start = time.time()\n",
    "        LIS_dp(A)\n",
    "        end = time.time()\n",
    "        dp_time.append(end-start)\n",
    "\n",
    "    x = np.linspace(1, 20, 19)\n",
    "    plt.plot(x, naive_time, label='naive')\n",
    "    plt.plot(x, dp_time, label='dp')\n",
    "    plt.legend()\n",
    "    plt.show()\n",
    "plot()"
   ]
  },
  {
   "attachments": {},
   "cell_type": "markdown",
   "metadata": {},
   "source": [
    "Chỉ cần với 20 phần tử đã cho ra kết quả chạy rất ấn tượng."
   ]
  },
  {
   "attachments": {},
   "cell_type": "markdown",
   "metadata": {},
   "source": [
    "# III. Đặt bài toán, thiết kế, phân tích và triển khai thuật toán"
   ]
  },
  {
   "attachments": {},
   "cell_type": "markdown",
   "metadata": {},
   "source": [
    "Đây là bài toán mà bản thân em thấy rất khá tâm đắc trong quá trình học thuật toán của mình, vì những kĩ thuật cao siêu của nó. Chính vì để vượt qua bản thân mình nên em đã lựa chọn tìm hiểu nó và viết bài này.\n",
    "\n",
    "Đây sẽ là những mô tả ngắn gọn của bài toán trước bài báo cáo cuối kì.\n",
    "\n",
    "## Quy hoạch động chữ số - DP digit\n",
    "\n",
    "**Định nghĩa**: Quy hoạch động chữ số là phương pháp hiệu quả để giải các bài toán đếm số thoả mãn tính chất về các chữ số của nó.\n",
    "\n",
    "**Đặt vấn đề**: Có bao nhiêu số $x$ trong khoảng $[a, b]$ thoả mãn 1 điều kiện nào đó.\n",
    "\n",
    "Đặt $G(x)$ là số các số trong khoảng $[1, x]$ thoả mãn điều kiện đề bài => $G(b) - G(a-1)$ là số các số trong khoảng $[a, b]$ thoả mãn điều kiện đề bài.\n",
    "\n",
    "Đây chính là cơ sở của quy hoạch động. Mọi bài toán đếm như trên đều có thể được giải bằng đệ quy chữ số (dp digit, hoặc dp chữ số.)\n",
    "\n",
    "**Ý tưởng chính**:\n",
    "\n",
    "- Cho số $x$ có $n$ chữ số. Ý tưởng chính của dp chữ số là biểu diễn các chữ số của $x$ thành một mảng $t[]$. Giả sử ta có $t_nt_{n-1}t_{n-2}...t_2t_1$ là biểu diễn thập phân của $x$ với $t_i$ (0 < i <= n) là chữ số thứ $i$ từ phải sang. Chữ số bên trái nhất $t_n$ là chữ số có trọng số lớn nhất.\n",
    "\n",
    "- Giờ, sau khi biểu diễn số đã cho theo cách này, ta sinh ra các số nhỏ hơn số đã cho và đồng thời tính toán bằng DP, nếu số đó thoả mãn tính chất đã cho. Ta bắt đầu sinh ra các số có số chữ số = 1 và sau đó lần lượt đến khi số chữ số = n. Các số có số chữ số ít hơn n có thể được phân tích bằng cách đặt các chữ số bên trái nhất là 0.\n",
    "\n",
    "**Ví dụ**:\n",
    "Cho 2 số nguyên $a$ và $b$. In ra tổng các chữ số xuất hiện trong các số nguyên trong khoảng $[a, b]\n",
    "Ví dụ: $a = 5$ và $b = 11$, kết quả là $38$ $(5 + 6 + 7 + 8 + 9 + 1 + 0 + 1 + 1)$\n",
    "Ràng buộc: $1 \\leq a \\leq b \\leq 10^{18}$\n"
   ]
  },
  {
   "attachments": {},
   "cell_type": "markdown",
   "metadata": {},
   "source": [
    "Now we see that if we have calculated the answer for state having n-1 digits, i.e., tn-1 tn-2 … t2 t1 and we need to calculate answer for state having n digits tn tn-1 tn-2 … t2 t1. So, clearly, we can use the result of the previous state instead of re-calculating it. Hence, it follows the overlapping property.\n",
    "Let’s think for a state for this DP\n",
    "Our DP state will be dp(idx, tight, sum)\n",
    "\n",
    "Để giải quyết bài toán, ta tính xem trong trường hợp đã có $n-1$ chữ số ($t_{n-1}t_{n-2}...t_2t_1$) thì $n$ chữ số ($t_nt_{n-1}t_{n-2}...t_2t_1$) giải quyết như thế nào?\n",
    "\n",
    "Bài toán sẽ được giải bằng cách sử dụng bài toán con (trường hợp trước đó) thay vì tính lại. Vì vậy, nó sẽ có tính chất trùng lặp. \n",
    "\n",
    "Hàm quy hoạch động sẽ là `dp(idx, tight, sum)`.\n",
    "\n",
    "1. `idx` là chỉ số của chữ số đang xét (từ phải sang). Ví dụ: `idx = 3` thì chữ số đang xét là $t_3$.\n",
    "\n",
    "\n",
    "2. `tight`: Sẽ cho biết khoảng chữ số hiện tại có bị giới hạn hay không. Nếu khoảng chữ số hiện tại không bị giới hạn thì nó sẽ nằm trong khoảng từ 0 đến 9 (bao gồm cả 0 và 9), nếu không thì nó sẽ nằm trong khoảng từ 0 đến $t_{idx}$ (bao gồm cả 0 và $t_{idx}$).\n",
    "    Ví dụ: giới hạn là $3245$ và cần tính $G(3245)$\n",
    "    ```\n",
    "    index: 4 3 2 1\n",
    "    digits: 3 2 4 5\n",
    "    ```\n",
    "\n",
    "***Khoảng không bị giới hạn***: \n",
    "\n",
    "Giả sử số đã được tạo ra là: 3 1 * * ( * là chỗ trống, nơi mà các chữ số được chèn vào để tạo thành số nguyên).\n",
    "```\n",
    "  index  : 4 3 2 1  \n",
    "  digits : 3 2 4 5\n",
    " generated integer: 3 1 _ _ \n",
    " ```\n",
    "\n",
    "Xét chỉ số 2, ta thấy nó có không bị giới hạn. Vì vậy, nó có thể có các chữ số từ 0 đến 9 (bao gồm cả 0 và 9).\n",
    "\n",
    "Với khoảng không bị giới hạn, `tight = 0`.\n",
    "\n",
    "***Khoảng bị giới hạn***:\n",
    "Giả sử số đã được tạo ra là: 3 2 * * ( * là chỗ trống, nơi mà các chữ số được chèn vào để tạo thành số nguyên).\n",
    "```\n",
    "  index  : 4 3 2 1  \n",
    "  digits : 3 2 4 5\n",
    " generated integer: 3 2 _ _ \n",
    " ```\n",
    "\n",
    "Xét chỉ số 2, ta thấy nó có bị giới hạn. Vì vậy, nó chỉ có thể có các chữ số từ 0 đến 4 (bao gồm cả 0 và 4).\n",
    "\n",
    "Với khoảng bị giới hạn, `tight = 1`.\n",
    "\n",
    "3. `sum`: \n",
    "  - tổng các chữ số\n",
    "  - Giá trị lớn nhất của `sum` = 9 * 18 = 162, tương ứng với 18 chữ số.\n",
    "\n",
    "\n",
    "***Quan hệ trạng thái***:\n",
    "\n",
    "\n",
    "Ý tưởng: Xây dựng dp bằng phương pháp top-down. Giả sử ta đang ở chữ số có chỉ số `idx`. Vì vậy, ban đầu tổng sẽ là 0. Do đó, ta sẽ điền chữ số tại chỉ số `idx` bằng các chữ số trong khoảng cho phép của nó. Giả sử khoảng của nó là từ 0 đến $k$ ($k \\leq 9$, phụ thuộc vào giá trị của `tight`) và lấy kết quả từ trạng thái tiếp theo có chỉ số `idx-1` và tổng = tổng trước đó + chữ số đã chọn.\n",
    "\n",
    "```cpp\n",
    "int ans = 0;\n",
    "for (int i=0; i<=k; i++) {\n",
    "   ans += state(idx-1, newTight, sum+i)\n",
    "}\n",
    "\n",
    "state(idx,tight,sum) = ans;\n",
    "```\n",
    "\n",
    "***Tính giá trị `newTight` như thế nào?***\n",
    "\n",
    "The new tight value from a state depends on its previous state. If tight value form the previous state is 1 and the digit at idx chosen is digit[idx](i.e the digit at idx in limiting integer) , then only our new tight will be 1 as it only then tells that the number formed till now is prefix of the limiting integer. \n",
    "\n",
    "Giá trị `newTight` của 1 trạng thái phụ thuộc vào trạng thái trước đó. Nếu `tight` trước = 1 và chữ số tại chỉ số `idx` được chọn là `digit[idx]` (tức là chữ số tại chỉ số `idx` trong số nguyên giới hạn), thì giá trị `newTight` là 1, vì chỉ khi đó nó cho biết rằng số được tạo ra cho đến nay là tiền tố của số nguyên giới hạn.\n",
    "\n",
    "```cpp\n",
    "\n",
    "// digitTaken is the digit chosen\n",
    "// digit[idx] is the digit in the limiting \n",
    "//            integer at index idx from right\n",
    "// previouTight is the tight value form previous \n",
    "//              state\n",
    "\n",
    "newTight = previousTight & (digitTake == digit[idx])\n",
    "```"
   ]
  },
  {
   "attachments": {},
   "cell_type": "markdown",
   "metadata": {},
   "source": [
    "#### Code cài đặt:"
   ]
  },
  {
   "cell_type": "code",
   "execution_count": null,
   "metadata": {},
   "outputs": [],
   "source": [
    "# Memoization for the state results\n",
    "dp = [[[-1 for i in range(2)] for j in range(180)]for k in range(20)]\n",
    "\n",
    "# Stores the digits in x in a list digit\n",
    "def getDigits(x, digit):\n",
    "\twhile x:\n",
    "\t\tdigit.append(x % 10)\n",
    "\t\tx //= 10\n",
    "\t\t\n",
    "# Return sum of digits from 1 to integer in digit list\n",
    "def digitSum(index, sumof, tight, digit):\n",
    "\n",
    "\t# Base case\n",
    "\tif index == -1:\n",
    "\t\treturn sumof\n",
    "\t\n",
    "\t\t# Checking if already calculated this state\n",
    "\tif dp[index][sumof][tight] != -1 and tight != 1:\n",
    "\t\treturn dp[index][sumof][tight]\n",
    "\tret = 0\n",
    "\t\n",
    "\t# Calculating range value\n",
    "\tk = digit[index] if tight else 9\n",
    "\tfor i in range(0, k+1):\n",
    "\t\n",
    "\t\t# Calculating newTight value for nextstate\n",
    "\t\tnewTight = tight if digit[index] == i else 0\n",
    "\t\t\n",
    "\t\t# Fetching answer from next state\n",
    "\t\tret += digitSum(index-1, sumof+i, newTight, digit)\n",
    "\tif not tight:\n",
    "\t\tdp[index][sumof][tight] = ret\n",
    "\treturn ret\n",
    "\n",
    "# Returns sum of digits in numbers from a to b\n",
    "def rangeDigitSum(a, b):\n",
    "\tdigitA = []\n",
    "\t\n",
    "\t# Storing digits of a-1 in digitA\n",
    "\tgetDigits(a-1, digitA)\n",
    "\t\n",
    "\t# Finding sum of digits from 1 to \"a-1\" which is passed as digitA\n",
    "\tans1 = digitSum(len(digitA)-1, 0, 1, digitA)\n",
    "\tdigitB = []\n",
    "\t\n",
    "\t# Storing digits of b in digitB\n",
    "\tgetDigits(b, digitB)\n",
    "\t\n",
    "\t# Finding sum of digits from 1 to \"b\" which is passed as digitB\n",
    "\tans2 = digitSum(len(digitB)-1, 0, 1, digitB)\n",
    "\treturn ans2-ans1\n",
    "\n",
    "\n",
    "a, b = 123, 1024\n",
    "print(\"digit sum for given range: \", rangeDigitSum(a, b))\n"
   ]
  },
  {
   "attachments": {},
   "cell_type": "markdown",
   "metadata": {},
   "source": [
    "**Độ phức tạp thời gian**:\n",
    "\n",
    "Có tổng cộng $idx*sum*tight$ trạng thái và phải duyệt từ 0-9 cho mỗi trạng thái. Vậy nên độ phức tạp thời gian = $O(10*idx*sum*tight)$. Ở đây, ta thấy `tight = 2` và `idx` có thể là tối đa 18 cho số nguyên không dấu 64 bit và hơn nữa, tổng sẽ là tối đa $9*18 \\sim 200$. Vì vậy, tổng cộng ta có $10*18*200*2 \\sim 10^5$ lần lặp mà có thể thực hiện trong 0.01 giây.\n",
    "\n",
    "**Độ phức tạp không gian**:\n",
    "\n",
    "$O(d*sum*tight)$ với mảng `dp` cỡ $d*sum*tight$, với d = số chữ số, sum = tổng các chữ số và tight = giá trị boolean cho biết chữ số hiện tại có bị giới hạn bởi chữ số trong số hay không.\n"
   ]
  },
  {
   "attachments": {},
   "cell_type": "markdown",
   "metadata": {},
   "source": [
    "# Tham khảo:\n",
    "\n",
    "- https://hoclen.top/home/course/quy-hoach-dong-chu-so/13#:~:text=Quy%20hoạch%20động%20chữ%20số%20là%20phương%20pháp%20hiệu%20quả,viết%20bằng%20C%2B%2B%20và%20Pascal.\n",
    "- https://codeforces.com/blog/entry/53960\n",
    "- https://www.geeksforgeeks.org/digit-dp-introduction/"
   ]
  }
 ],
 "metadata": {
  "kernelspec": {
   "display_name": "Python 3",
   "language": "python",
   "name": "python3"
  },
  "language_info": {
   "codemirror_mode": {
    "name": "ipython",
    "version": 3
   },
   "file_extension": ".py",
   "mimetype": "text/x-python",
   "name": "python",
   "nbconvert_exporter": "python",
   "pygments_lexer": "ipython3",
   "version": "3.11.2"
  },
  "orig_nbformat": 4
 },
 "nbformat": 4,
 "nbformat_minor": 2
}
