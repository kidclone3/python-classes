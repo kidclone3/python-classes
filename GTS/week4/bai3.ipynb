{
 "cells": [
  {
   "cell_type": "markdown",
   "metadata": {},
   "source": [
    "$P_4(x) = a_0 + a_1 (x-x_0) + a_2(x-x_0)(x-x_1)+a_3(x-x_0)(x-x_1)(x-x_2)+a_4(x-x_0)(x-x_1)(x-x_2)(x-x_3)$"
   ]
  },
  {
   "cell_type": "markdown",
   "metadata": {},
   "source": [
    "$y_0 = P_4(x_0) = a_0 = y_0$"
   ]
  },
  {
   "cell_type": "markdown",
   "metadata": {},
   "source": [
    "$y_1 = P_4(x_1) = a_0 + a_1(x_1-x_0) \\\\= y_0 + a_1.h = y_1$\n",
    "\n",
    "$\\rightarrow a_1 = \\frac{y_1-y_0}h = \\frac{\\Delta y_0}h$"
   ]
  },
  {
   "cell_type": "markdown",
   "metadata": {},
   "source": [
    "$y_2 = P_4(x_2) = a_0 + a_1(x_2 - x_0) + a_2(x_2-x_0)(x_2-x_1) \\\\= y_0 + \\frac{y_1-y_0}h . 2h + a_2.2h^2 \\\\= y_0 + 2(y_1-y_0) + a_2.2h^2 $\n",
    "\n",
    "$\\rightarrow a_2 = \\frac{y_0 + 2\\Delta y}{2h^2}$"
   ]
  },
  {
   "cell_type": "markdown",
   "metadata": {},
   "source": [
    "$a_3 = \\frac{\\Delta ^3 y_0}{3! h^3}$"
   ]
  },
  {
   "cell_type": "markdown",
   "metadata": {},
   "source": [
    "$a_4 = \\frac{\\Delta ^4 y_0}{4! h^4}$"
   ]
  }
 ],
 "metadata": {
  "kernelspec": {
   "display_name": "Python 3.9.7 ('base')",
   "language": "python",
   "name": "python3"
  },
  "language_info": {
   "name": "python",
   "version": "3.9.7"
  },
  "orig_nbformat": 4,
  "vscode": {
   "interpreter": {
    "hash": "1c6177a275554534f533b5ca08c733f2162f41df6c8add0bb941ac8c0b713f94"
   }
  }
 },
 "nbformat": 4,
 "nbformat_minor": 2
}
