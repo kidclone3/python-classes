{
 "cells": [
  {
   "cell_type": "code",
   "execution_count": 2,
   "metadata": {},
   "outputs": [],
   "source": [
    "import numpy as np"
   ]
  },
  {
   "cell_type": "code",
   "execution_count": 14,
   "metadata": {},
   "outputs": [],
   "source": [
    "matrix_A = np.loadtxt('data2.txt', usecols = range(3), dtype = np.float64)\n",
    "matrix_B = np.loadtxt('data2.txt', usecols = 3, dtype = np.float64)"
   ]
  },
  {
   "cell_type": "code",
   "execution_count": 16,
   "metadata": {},
   "outputs": [
    {
     "name": "stdout",
     "output_type": "stream",
     "text": [
      "[[ 1.  1.  1.]\n",
      " [ 0. -2. -6.]\n",
      " [ 0. -3. -6.]]\n",
      "[[ 1.  1.  1.]\n",
      " [-0.  1.  3.]\n",
      " [ 0.  0.  3.]]\n",
      "[[ 1.  1.  1.]\n",
      " [-0.  1.  3.]\n",
      " [ 0.  0.  1.]]\n",
      "[[ 1.  1.  1.]\n",
      " [-0.  1.  3.]\n",
      " [ 0.  0.  1.]]\n",
      "-0.0\n",
      "[ 1. -1.  2.]\n"
     ]
    }
   ],
   "source": [
    "def gauss_elim(A: np.ndarray, B: np.ndarray) -> np.ndarray:\n",
    "    mA = A.copy()\n",
    "    mB = B.copy()\n",
    "\n",
    "    # First pick col to make gauss eliminating\n",
    "    for j in range(len(mA)):\n",
    "        # Make a[j][j] to 1\n",
    "        pivot = mA[j][j]\n",
    "        mA[j] /= pivot\n",
    "        mB[j] /= pivot\n",
    "        for i in range(j+1, len(mA)):\n",
    "            pivot = mA[i][j]\n",
    "            mA[i] = mA[i] + -pivot * mA[j]\n",
    "            mB[i] = mB[i] + -pivot * mB[j]\n",
    "        print(mA)\n",
    "    return mA, mB\n",
    "matrix_A1, matrix_B1 = gauss_elim(matrix_A, matrix_B)\n",
    "print(matrix_A1)\n",
    "print(matrix_A1[1, 0])\n",
    "print(matrix_B1)\n"
   ]
  },
  {
   "cell_type": "code",
   "execution_count": 11,
   "metadata": {},
   "outputs": [
    {
     "name": "stdout",
     "output_type": "stream",
     "text": [
      "[[ 1.  1.  1.]\n",
      " [ 3.  1. -3.]\n",
      " [ 1. -2. -5.]]\n",
      "[ 1.  5. 10.]\n"
     ]
    }
   ],
   "source": [
    "print(matrix_A)\n",
    "print(matrix_B)"
   ]
  }
 ],
 "metadata": {
  "kernelspec": {
   "display_name": "Python 3.9.7 ('base')",
   "language": "python",
   "name": "python3"
  },
  "language_info": {
   "codemirror_mode": {
    "name": "ipython",
    "version": 3
   },
   "file_extension": ".py",
   "mimetype": "text/x-python",
   "name": "python",
   "nbconvert_exporter": "python",
   "pygments_lexer": "ipython3",
   "version": "3.9.7"
  },
  "orig_nbformat": 4,
  "vscode": {
   "interpreter": {
    "hash": "1c6177a275554534f533b5ca08c733f2162f41df6c8add0bb941ac8c0b713f94"
   }
  }
 },
 "nbformat": 4,
 "nbformat_minor": 2
}
