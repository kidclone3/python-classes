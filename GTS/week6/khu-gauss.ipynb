{
 "cells": [
  {
   "cell_type": "code",
   "execution_count": 4,
   "metadata": {},
   "outputs": [
    {
     "name": "stdout",
     "output_type": "stream",
     "text": [
      "[[1.0, 2.0, 3.0], [2.0, 1.0, 3.0], [3.0, 2.0, 1.0]]\n"
     ]
    }
   ],
   "source": [
    "n = 3\n",
    "a = list()\n",
    "with open(\"in\", \"r\") as f:\n",
    "    for i in range(n):\n",
    "        x = [float(_) for _ in f.readline().split()]\n",
    "        a.append(x)\n",
    "print(a)"
   ]
  },
  {
   "cell_type": "code",
   "execution_count": 5,
   "metadata": {},
   "outputs": [
    {
     "name": "stdout",
     "output_type": "stream",
     "text": [
      "[[1.0, 2.0, 3.0], [2.0, 1.0, 3.0], [3.0, 2.0, 1.0]]\n"
     ]
    }
   ],
   "source": [
    "def gauss(A: list[list]):\n",
    "    matrix = A.copy()\n",
    "    n = len(A)\n",
    "    for diag in range(1, n-1): # duong cheo chinh.\n",
    "        heso = matrix[diag-1][diag-1]\n",
    "        if heso == 0:\n",
    "            for j in range(diag, n):\n",
    "                if matrix[j][j] != 0:\n",
    "                    matrix[diag-1], matrix[j] = matrix[j], matrix[diag-1] # swap 2 row\n",
    "                    heso = matrix[diag-1][diag-1]\n",
    "                    break\n",
    "        # Chuan hoa?\n",
    "        heso = matrix[diag-1][diag-1]\n",
    "        for j in range(diag-1, n):\n",
    "            matrix[diag-1][j] /= heso\n",
    "        # for i in range(diag, n):\n",
    "        #     if matrix[i][diag-1] == 0:\n",
    "        #         continue\n",
    "        #     heso = matrix[diag-1][diag-1]/matrix[i][diag-1]\n",
    "        #     for j in range(diag-1, n):\n",
    "    print(matrix)\n",
    "gauss(A=a)\n",
    "\n",
    "\n"
   ]
  }
 ],
 "metadata": {
  "kernelspec": {
   "display_name": "Python 3.9.7 ('base')",
   "language": "python",
   "name": "python3"
  },
  "language_info": {
   "codemirror_mode": {
    "name": "ipython",
    "version": 3
   },
   "file_extension": ".py",
   "mimetype": "text/x-python",
   "name": "python",
   "nbconvert_exporter": "python",
   "pygments_lexer": "ipython3",
   "version": "3.9.7"
  },
  "orig_nbformat": 4,
  "vscode": {
   "interpreter": {
    "hash": "1c6177a275554534f533b5ca08c733f2162f41df6c8add0bb941ac8c0b713f94"
   }
  }
 },
 "nbformat": 4,
 "nbformat_minor": 2
}
