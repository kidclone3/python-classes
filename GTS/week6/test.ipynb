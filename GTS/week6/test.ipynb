{
 "cells": [
  {
   "cell_type": "code",
   "execution_count": 1,
   "metadata": {},
   "outputs": [],
   "source": [
    "import numpy as np"
   ]
  },
  {
   "cell_type": "code",
   "execution_count": 68,
   "metadata": {},
   "outputs": [],
   "source": [
    "a = np.array([[2, 1, -1], [-3,-1,2], [-2,1,2]], dtype=np.float64)\n",
    "b = np.array([8,-11,-3], dtype = np.float64)\n",
    "x = np.linalg.solve(a, b)\n"
   ]
  },
  {
   "cell_type": "code",
   "execution_count": 66,
   "metadata": {},
   "outputs": [],
   "source": [
    "def Gauss(a: np.ndarray, b: np.ndarray) -> None:\n",
    "    n = b.size\n",
    "    for j in range(n-1): \n",
    "        for i in range(j+1, n):\n",
    "            if (a[j][j] != 0):\n",
    "                p = a[j][j] / a[i][j]\n",
    "                a[i] = -a[i]*p + a[j]\n",
    "                b[i] = -b[i]*p + b[j]"
   ]
  },
  {
   "cell_type": "code",
   "execution_count": 69,
   "metadata": {},
   "outputs": [
    {
     "name": "stdout",
     "output_type": "stream",
     "text": [
      "None\n",
      "[[ 2.          1.         -1.        ]\n",
      " [ 0.          0.33333333  0.33333333]\n",
      " [ 0.          0.          0.16666667]]\n",
      "[ 8.          0.66666667 -0.16666667]\n"
     ]
    }
   ],
   "source": [
    "print(Gauss(a, b))\n",
    "print(a)\n",
    "print(b)\n"
   ]
  },
  {
   "cell_type": "code",
   "execution_count": 70,
   "metadata": {},
   "outputs": [],
   "source": [
    "def replace(a: np.ndarray, b: np.ndarray) -> np.ndarray:\n",
    "    n = b.size\n",
    "    x = np.zeros(n, dtype=np.float64)\n",
    "    for i in range(n-1, -1, -1):\n",
    "        if i == n-1:\n",
    "            x[i] = b[i]/a[i][i]\n",
    "        else:\n",
    "            _sum = sum(a[i][i+1:n] * x[i+1:n])\n",
    "            x[i] =  (b[i] - _sum)/a[i][i]\n",
    "    print(x)\n",
    "\n",
    "    return x"
   ]
  },
  {
   "cell_type": "code",
   "execution_count": 71,
   "metadata": {},
   "outputs": [
    {
     "name": "stdout",
     "output_type": "stream",
     "text": [
      "[ 2.  3. -1.]\n"
     ]
    }
   ],
   "source": [
    "xx = replace(a, b)"
   ]
  },
  {
   "cell_type": "code",
   "execution_count": 38,
   "metadata": {},
   "outputs": [
    {
     "name": "stdout",
     "output_type": "stream",
     "text": [
      "[2 4 3]\n"
     ]
    }
   ],
   "source": [
    "tmp1 = np.array([1,2,3])\n",
    "tmp2 = np.array([2,2,1])\n",
    "print(tmp1 * tmp2)"
   ]
  },
  {
   "cell_type": "code",
   "execution_count": 65,
   "metadata": {},
   "outputs": [
    {
     "data": {
      "text/plain": [
       "numpy.ndarray"
      ]
     },
     "execution_count": 65,
     "metadata": {},
     "output_type": "execute_result"
    }
   ],
   "source": [
    "# print(x)\n",
    "# assert x == xx\n",
    "type(x)"
   ]
  },
  {
   "cell_type": "code",
   "execution_count": null,
   "metadata": {},
   "outputs": [],
   "source": []
  }
 ],
 "metadata": {
  "kernelspec": {
   "display_name": "Python 3.9.7 ('base')",
   "language": "python",
   "name": "python3"
  },
  "language_info": {
   "codemirror_mode": {
    "name": "ipython",
    "version": 3
   },
   "file_extension": ".py",
   "mimetype": "text/x-python",
   "name": "python",
   "nbconvert_exporter": "python",
   "pygments_lexer": "ipython3",
   "version": "3.9.7"
  },
  "orig_nbformat": 4,
  "vscode": {
   "interpreter": {
    "hash": "1c6177a275554534f533b5ca08c733f2162f41df6c8add0bb941ac8c0b713f94"
   }
  }
 },
 "nbformat": 4,
 "nbformat_minor": 2
}
