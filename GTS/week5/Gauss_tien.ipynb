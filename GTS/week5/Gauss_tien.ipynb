{
 "cells": [
  {
   "cell_type": "code",
   "execution_count": 29,
   "metadata": {},
   "outputs": [
    {
     "name": "stdout",
     "output_type": "stream",
     "text": [
      "[2.7183, 2.8577, 3.0042, 3.1582, 3.3201, 3.4903, 3.6693]\n",
      "Bang sai phan\n",
      "2.7183 0.13939999999999975 0.007100000000000328 0.00039999999999951186 8.881784197001252e-16 -1.7763568394002505e-15 0.00010000000000331966 \n",
      "2.8577 0.14650000000000007 0.00749999999999984 0.00040000000000040004 -8.881784197001252e-16 0.0001000000000015433 -0.1885000000000021 \n",
      "3.0042 0.15399999999999991 0.00790000000000024 0.00039999999999951186 0.00010000000000065512 -0.18840000000000057 0.7435 \n",
      "3.1582 0.16190000000000015 0.008299999999999752 0.000500000000000167 -0.1882999999999999 0.5550999999999995 -1.1008999999999989 \n",
      "3.3201 0.1701999999999999 0.008799999999999919 -0.18779999999999974 0.36679999999999957 -0.5457999999999994 0.7247999999999992 \n",
      "3.4903 0.17899999999999983 -0.17899999999999983 0.17899999999999983 -0.17899999999999983 0.17899999999999983 -0.17899999999999983 \n",
      "3.6693 0 0 0 0 0 0 \n",
      "3.269605450582669\n",
      "1.15\n"
     ]
    }
   ],
   "source": [
    "xx = 1.17\n",
    "x = list()\n",
    "y = list()\n",
    "n = 7\n",
    "\n",
    "factor = [1]*n\n",
    "for i in range(1, n):\n",
    "    factor[i] = factor[i-1]*i\n",
    "\n",
    "with open('in', 'r') as f:\n",
    "    for i in range(n):\n",
    "        xi, yi = map(float, f.readline().split())\n",
    "        x.append(xi)\n",
    "        y.append(yi)\n",
    "        \n",
    "# Don't use [[0]*n]*n because when update one element, it update whole column.\n",
    "delta_y = [[0 for i in range(n)] for j in range(n)] # bang sai phan.\n",
    "# tinh bang sai phan?\n",
    "for i in range(0, n):\n",
    "    delta_y[i][0] = y[i] # delta^0 y_i = y_i\n",
    "\n",
    "for j in range(1, n):\n",
    "    for i in range(n-2, -1, -1):\n",
    "        delta_y[i][j] = delta_y[i+1][j-1] - delta_y[i][j-1]\n",
    "        # print(delta_y[i+1][j-1],delta_y[i][j-1])\n",
    "\n",
    "print(\"Bang sai phan\")\n",
    "for i in range(n):\n",
    "    for j in range(n):\n",
    "        print(delta_y[i][j], end = \" \")\n",
    "    print()\n",
    "# Vi chi so ko the < 0 -> lay phan tu giua la x_0\n",
    "\n",
    "def f(xx: float) -> float:\n",
    "    P = 0\n",
    "    mid = n//2\n",
    "    h = x[1]-x[0]\n",
    "    xxx = 1\n",
    "    heso = lambda i: delta_y[mid-i][i]/(factor[i]*h**i)\n",
    "    for i in range(1, n):\n",
    "        if (i % 2 == 0):\n",
    "            P = P + delta_y[mid-(i//2)][i]/(factor[i]*h**i) * xxx\n",
    "            xxx *= xx - x[mid-i//2]\n",
    "        else:\n",
    "            P = P + delta_y[mid-(i//2)][i]/(factor[i]*h**(1)) * xxx\n",
    "            xxx *= xx - x[mid+i//2]\n",
    "    return P\n",
    "print(f(xx))"
   ]
  },
  {
   "cell_type": "code",
   "execution_count": null,
   "metadata": {},
   "outputs": [],
   "source": []
  }
 ],
 "metadata": {
  "kernelspec": {
   "display_name": "Python 3.9.7 ('base')",
   "language": "python",
   "name": "python3"
  },
  "language_info": {
   "codemirror_mode": {
    "name": "ipython",
    "version": 3
   },
   "file_extension": ".py",
   "mimetype": "text/x-python",
   "name": "python",
   "nbconvert_exporter": "python",
   "pygments_lexer": "ipython3",
   "version": "3.9.7"
  },
  "orig_nbformat": 4,
  "vscode": {
   "interpreter": {
    "hash": "1c6177a275554534f533b5ca08c733f2162f41df6c8add0bb941ac8c0b713f94"
   }
  }
 },
 "nbformat": 4,
 "nbformat_minor": 2
}
