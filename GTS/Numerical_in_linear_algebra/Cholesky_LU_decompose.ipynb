{
 "cells": [
  {
   "cell_type": "code",
   "execution_count": 18,
   "metadata": {},
   "outputs": [],
   "source": [
    "import numpy as np"
   ]
  },
  {
   "cell_type": "code",
   "execution_count": 19,
   "metadata": {},
   "outputs": [
    {
     "name": "stdout",
     "output_type": "stream",
     "text": [
      "[[  6.  15.  55.]\n",
      " [ 15.  55. 225.]\n",
      " [ 55. 225. 979.]]\n",
      "[  76.  295. 1259.]\n"
     ]
    }
   ],
   "source": [
    "\"\"\"\n",
    "Input format:\n",
    "- First line: n = dimension of matrix\n",
    "- n line: each line has n numbers: matrix A\n",
    "- 1 line: n numbers: matrix B^T\n",
    "\"\"\"\n",
    "matrix_A = np.loadtxt('data2.txt', usecols=range(3), dtype=np.float128)\n",
    "matrix_B = np.loadtxt('data2.txt', usecols=3, dtype=np.float128)\n",
    "dim = len(matrix_A)\n",
    "print(matrix_A)\n",
    "print(matrix_B)"
   ]
  },
  {
   "cell_type": "code",
   "execution_count": 20,
   "metadata": {},
   "outputs": [
    {
     "name": "stdout",
     "output_type": "stream",
     "text": [
      "[[ 2.45   0.     0.   ]\n",
      " [ 6.125  4.18   0.   ]\n",
      " [22.45  20.94   6.04 ]]\n"
     ]
    }
   ],
   "source": [
    "def LU_decompose(a):\n",
    "    \"\"\"LU decomposition\n",
    "        Using Cholesky Decompose\n",
    "    Args:\n",
    "        a : numpy array: matrix need to decompose LU\n",
    "    Returns:\n",
    "        numpy array: Matrix LU\n",
    "    \"\"\"\n",
    "    n = len(a)\n",
    "    L = np.zeros([n, n], dtype=np.float16)\n",
    "    for j in range(n):\n",
    "        for i in range(j, n):\n",
    "            # print(i, j)\n",
    "            if i == j:\n",
    "                tmp_sum = sum([L[i][k]**2 for k in range(0, i)])\n",
    "                # print(tmp_sum, a[i][j])\n",
    "                L[i][j] = np.sqrt(a[i][j] - tmp_sum)\n",
    "            else:\n",
    "                tmp_sum = sum([L[i][k]*L[j][k] for k in range(0, i)])\n",
    "                L[i][j] = (a[i][j] - tmp_sum)/L[j][j]\n",
    "    return L\n",
    "\n",
    "matrix_L = LU_decompose(matrix_A)\n",
    "print(matrix_L)"
   ]
  },
  {
   "cell_type": "code",
   "execution_count": 21,
   "metadata": {},
   "outputs": [
    {
     "name": "stdout",
     "output_type": "stream",
     "text": [
      "[31.03030303 25.10699519  6.05971797]\n"
     ]
    }
   ],
   "source": [
    "# Ax = LL^T x = B\n",
    "# L^T x = y, then Ly = B\n",
    "y = np.zeros(dim, dtype=np.float128)\n",
    "for i in range(dim):\n",
    "    tmp_sum = sum(matrix_L[i][j]*y[j] for j in range(i))\n",
    "    y[i] = (matrix_B[i] - tmp_sum)/matrix_L[i][i]\n",
    "print(y)"
   ]
  },
  {
   "cell_type": "code",
   "execution_count": 22,
   "metadata": {},
   "outputs": [
    {
     "name": "stdout",
     "output_type": "stream",
     "text": [
      "[1.01879842 0.98042794 1.00342031]\n"
     ]
    }
   ],
   "source": [
    "# L^T x = y\n",
    "# => Calculate bottom up\n",
    "matrix_L_T = matrix_L.transpose()\n",
    "x = np.zeros(dim, dtype = np.float128)\n",
    "for i in range(dim-1, -1, -1):\n",
    "    tmp_sum = sum(matrix_L_T[i][j] * x[j] for j in range(i+1, dim))\n",
    "    x[i] = (y[i] - tmp_sum) / matrix_L_T[i][i]\n",
    "print(x)"
   ]
  },
  {
   "cell_type": "code",
   "execution_count": null,
   "metadata": {},
   "outputs": [],
   "source": []
  }
 ],
 "metadata": {
  "kernelspec": {
   "display_name": "Python 3.9.7 ('base')",
   "language": "python",
   "name": "python3"
  },
  "language_info": {
   "codemirror_mode": {
    "name": "ipython",
    "version": 3
   },
   "file_extension": ".py",
   "mimetype": "text/x-python",
   "name": "python",
   "nbconvert_exporter": "python",
   "pygments_lexer": "ipython3",
   "version": "3.9.7"
  },
  "orig_nbformat": 4,
  "vscode": {
   "interpreter": {
    "hash": "1c6177a275554534f533b5ca08c733f2162f41df6c8add0bb941ac8c0b713f94"
   }
  }
 },
 "nbformat": 4,
 "nbformat_minor": 2
}
