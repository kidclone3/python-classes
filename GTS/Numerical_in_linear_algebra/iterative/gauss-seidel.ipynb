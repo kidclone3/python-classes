{
 "cells": [
  {
   "cell_type": "markdown",
   "metadata": {},
   "source": [
    "Data from this site:\n",
    "https://www.maa.org/press/periodicals/loci/joma/iterative-methods-for-solving-iaxi-ibi-jacobis-method"
   ]
  },
  {
   "cell_type": "code",
   "execution_count": 2,
   "metadata": {},
   "outputs": [],
   "source": [
    "import numpy as np "
   ]
  },
  {
   "cell_type": "code",
   "execution_count": 3,
   "metadata": {},
   "outputs": [],
   "source": [
    "# Ax= b\n",
    "filename = 'data.txt'\n",
    "matrix_A = np.loadtxt(filename, usecols = range(3), dtype=np.float128)\n",
    "matrix_b = np.loadtxt(filename, usecols = 3, dtype= np.float128)"
   ]
  },
  {
   "cell_type": "code",
   "execution_count": 4,
   "metadata": {},
   "outputs": [],
   "source": [
    "len_A = len(matrix_A)\n",
    "matrix_B = np.zeros([len_A, len_A], dtype=np.float128)\n",
    "matrix_d = np.zeros(len_A, dtype=np.float128)\n",
    "for i in range(len_A):\n",
    "    for j in range(len_A):\n",
    "        if i != j:\n",
    "            matrix_B[i,j] = -matrix_A[i,j] /matrix_A[i, i]\n",
    "    matrix_d[i] = matrix_b[i]/matrix_A[i,i]"
   ]
  },
  {
   "cell_type": "code",
   "execution_count": 129,
   "metadata": {},
   "outputs": [],
   "source": [
    "def seidel(A:np.ndarray, x:np.ndarray, b: np.ndarray) -> np.ndarray:\n",
    "    \"\"\"Gauss-Seidel method, with x = Ax + b\n",
    "    Args:\n",
    "        A (np.ndarray): \n",
    "        x (np.ndarray): aka x^k\n",
    "        b (np.ndarray):\n",
    "        Return x^(k+1) (np.ndarray)\n",
    "    \"\"\"\n",
    "    _x = x.copy()\n",
    "    for i in range(len(x)):\n",
    "        tmp_sum = 0.0\n",
    "        for j in range(len(x)):\n",
    "            if j != i:\n",
    "                tmp_sum += A[i,j] * _x[j]\n",
    "            # print(f\"i = {i}, j = {j}, tmp_sum = {tmp_sum}\")\n",
    "        _x[i] = b[i] + tmp_sum\n",
    "        # print(_x)\n",
    "        \n",
    "    return _x"
   ]
  },
  {
   "cell_type": "code",
   "execution_count": 134,
   "metadata": {},
   "outputs": [
    {
     "name": "stdout",
     "output_type": "stream",
     "text": [
      "[[ 0.          0.25        0.25      ]\n",
      " [ 0.33333333  0.         -0.16666667]\n",
      " [ 0.14285714 -0.14285714  0.        ]]\n",
      "[ 0.75        1.5        -0.85714286]\n"
     ]
    }
   ],
   "source": [
    "x = np.zeros(len_A, dtype=np.float128)\n",
    "print(matrix_B)\n",
    "print(matrix_d)"
   ]
  },
  {
   "cell_type": "code",
   "execution_count": 135,
   "metadata": {},
   "outputs": [
    {
     "name": "stdout",
     "output_type": "stream",
     "text": [
      "Need 6 steps\n",
      "[ 0.99999957  2.00000054 -1.00000014]\n"
     ]
    }
   ],
   "source": [
    "cnt = 0\n",
    "while np.linalg.norm(np.matmul(matrix_A, x) - matrix_b, ord=np.inf) > 1e-4:\n",
    "    x = seidel(matrix_B, x, matrix_d)\n",
    "    # print(x)\n",
    "    cnt += 1\n",
    "print(f\"Need {cnt} steps\")\n",
    "print(x)"
   ]
  },
  {
   "cell_type": "code",
   "execution_count": null,
   "metadata": {},
   "outputs": [],
   "source": []
  }
 ],
 "metadata": {
  "kernelspec": {
   "display_name": "Python 3.9.7 ('base')",
   "language": "python",
   "name": "python3"
  },
  "language_info": {
   "codemirror_mode": {
    "name": "ipython",
    "version": 3
   },
   "file_extension": ".py",
   "mimetype": "text/x-python",
   "name": "python",
   "nbconvert_exporter": "python",
   "pygments_lexer": "ipython3",
   "version": "3.9.7"
  },
  "orig_nbformat": 4,
  "vscode": {
   "interpreter": {
    "hash": "1c6177a275554534f533b5ca08c733f2162f41df6c8add0bb941ac8c0b713f94"
   }
  }
 },
 "nbformat": 4,
 "nbformat_minor": 2
}
