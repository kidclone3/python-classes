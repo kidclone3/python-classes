{
 "cells": [
  {
   "cell_type": "code",
   "execution_count": null,
   "metadata": {},
   "outputs": [],
   "source": [
    "def polynomial(a, x):\n",
    "    n = len(a)\n",
    "    p = a[n-1]\n",
    "    for i in range(n-2, -1, -1):\n",
    "        p = p*x + a[i]\n",
    "    return p"
   ]
  },
  {
   "cell_type": "code",
   "execution_count": 3,
   "metadata": {},
   "outputs": [
    {
     "name": "stdout",
     "output_type": "stream",
     "text": [
      "50.5 99.5\n"
     ]
    }
   ],
   "source": [
    "def ex4(p, n):\n",
    "    formula = p*(n+1)/2 + n*(1-p)\n",
    "    return formula\n",
    "\n",
    "n = 100\n",
    "mn = ex4(0, n)\n",
    "mx = ex4(1, n)\n",
    "for i in range(1, 100):\n",
    "    mn = min(mn, ex4(1/i, n))\n",
    "    mx = max(mx, ex4(1/i, n))\n",
    "\n",
    "print(mn, mx)"
   ]
  },
  {
   "cell_type": "code",
   "execution_count": 8,
   "metadata": {},
   "outputs": [
    {
     "name": "stdout",
     "output_type": "stream",
     "text": [
      "i= 0 j= 1\n",
      "['O', 'S', 'R', 'T', 'I', 'N', 'G']\n",
      "i= 0 j= 4\n",
      "['I', 'S', 'R', 'T', 'O', 'N', 'G']\n",
      "i= 0 j= 6\n",
      "['G', 'S', 'R', 'T', 'O', 'N', 'I']\n",
      "i= 1 j= 2\n",
      "['G', 'R', 'S', 'T', 'O', 'N', 'I']\n",
      "i= 1 j= 4\n",
      "['G', 'O', 'S', 'T', 'R', 'N', 'I']\n",
      "i= 1 j= 5\n",
      "['G', 'N', 'S', 'T', 'R', 'O', 'I']\n",
      "i= 1 j= 6\n",
      "['G', 'I', 'S', 'T', 'R', 'O', 'N']\n",
      "i= 2 j= 4\n",
      "['G', 'I', 'R', 'T', 'S', 'O', 'N']\n",
      "i= 2 j= 5\n",
      "['G', 'I', 'O', 'T', 'S', 'R', 'N']\n",
      "i= 2 j= 6\n",
      "['G', 'I', 'N', 'T', 'S', 'R', 'O']\n",
      "i= 3 j= 4\n",
      "['G', 'I', 'N', 'S', 'T', 'R', 'O']\n",
      "i= 3 j= 5\n",
      "['G', 'I', 'N', 'R', 'T', 'S', 'O']\n",
      "i= 3 j= 6\n",
      "['G', 'I', 'N', 'O', 'T', 'S', 'R']\n",
      "i= 4 j= 5\n",
      "['G', 'I', 'N', 'O', 'S', 'T', 'R']\n",
      "i= 4 j= 6\n",
      "['G', 'I', 'N', 'O', 'R', 'T', 'S']\n",
      "i= 5 j= 6\n",
      "['G', 'I', 'N', 'O', 'R', 'S', 'T']\n"
     ]
    }
   ],
   "source": [
    "ans = ['S', ' O', ' R', ' T', ' I', ' N', ' G']\n",
    "ans = [_.strip() for _ in ans]\n",
    "for i in range(len(ans)-1):\n",
    "    for j in range(i+1, len(ans)):\n",
    "        if (ans[i] > ans[j]):\n",
    "            print(\"i=\", i, \"j=\", j)\n",
    "            ans[i], ans[j] = ans[j], ans[i]\n",
    "            print(ans)"
   ]
  }
 ],
 "metadata": {
  "kernelspec": {
   "display_name": "Python 3",
   "language": "python",
   "name": "python3"
  },
  "language_info": {
   "codemirror_mode": {
    "name": "ipython",
    "version": 3
   },
   "file_extension": ".py",
   "mimetype": "text/x-python",
   "name": "python",
   "nbconvert_exporter": "python",
   "pygments_lexer": "ipython3",
   "version": "3.11.2"
  },
  "orig_nbformat": 4
 },
 "nbformat": 4,
 "nbformat_minor": 2
}
