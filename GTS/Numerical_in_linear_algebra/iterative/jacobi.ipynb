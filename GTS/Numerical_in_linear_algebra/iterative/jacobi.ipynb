{
 "cells": [
  {
   "cell_type": "markdown",
   "metadata": {},
   "source": [
    "Data from this site:\n",
    "https://www.maa.org/press/periodicals/loci/joma/iterative-methods-for-solving-iaxi-ibi-jacobis-method"
   ]
  },
  {
   "cell_type": "code",
   "execution_count": 1,
   "metadata": {},
   "outputs": [],
   "source": [
    "import numpy as np "
   ]
  },
  {
   "cell_type": "code",
   "execution_count": 27,
   "metadata": {},
   "outputs": [],
   "source": [
    "# Ax= b\n",
    "filename = 'data.txt'\n",
    "matrix_A = np.loadtxt(filename, usecols = range(3), dtype=np.float128)\n",
    "matrix_b = np.loadtxt(filename, usecols = 3, dtype= np.float128)"
   ]
  },
  {
   "cell_type": "code",
   "execution_count": 34,
   "metadata": {},
   "outputs": [
    {
     "name": "stdout",
     "output_type": "stream",
     "text": [
      "[[ 4. -1. -1.]\n",
      " [-2.  6.  1.]\n",
      " [-1.  1.  7.]]\n",
      "[ 0.75        1.5        -0.85714286]\n",
      "[[ 0.          0.25        0.25      ]\n",
      " [ 0.33333333  0.         -0.16666667]\n",
      " [ 0.14285714 -0.14285714  0.        ]]\n",
      "[ 0.75        1.5        -0.85714286]\n",
      "[ 0.91071429  1.89285714 -0.96428571]\n",
      "[ 0.98214286  1.96428571 -0.99744898]\n",
      "[ 0.99170918  1.99362245 -0.99744898]\n",
      "[ 0.99904337  1.99681122 -1.00027332]\n",
      "[ 0.99913448  1.99972668 -0.99968112]\n",
      "[ 1.00001139  1.99965835 -1.0000846 ]\n",
      "[ 0.99989344  2.0000179  -0.99994957]\n",
      "[ 1.00001708  1.99995607 -1.00001778]\n",
      "[ 0.99998457  2.00000866 -0.99999128]\n",
      "Need 10 steps\n"
     ]
    },
    {
     "data": {
      "text/plain": [
       "array([ 0.99998457,  2.00000866, -0.99999128], dtype=float128)"
      ]
     },
     "execution_count": 34,
     "metadata": {},
     "output_type": "execute_result"
    }
   ],
   "source": [
    "def jacobi(A:np.ndarray, b: np.ndarray) -> np.ndarray:\n",
    "    \"\"\"Jacobi method, with x = Bx + d\n",
    "\n",
    "    Args:\n",
    "        A (np.ndarray): \n",
    "        b (np.ndarray):\n",
    "        Return x_n: np.ndarray: Solution of Ax = b with error = 1e-4\n",
    "    \"\"\"\n",
    "    len_A = len(A)\n",
    "    # Just need to use 2 variable to swap.\n",
    "    err = 1e-4 \n",
    "\n",
    "    # Because A is a positive matrix -> create matrix B\n",
    "    # b_{ij} = -a[i,j] / a[jj] if j != i else 0\n",
    "    matrix_B = np.zeros([len_A, len_A], dtype=np.float128)\n",
    "    matrix_d = np.zeros(len_A, dtype=np.float128)\n",
    "    for i in range(len_A):\n",
    "        for j in range(len_A):\n",
    "            if i != j:\n",
    "                matrix_B[i,j] = -A[i,j] /A[i, i]\n",
    "        matrix_d[i] = b[i]/A[i,i]\n",
    "    print(A)\n",
    "    print(matrix_d)\n",
    "    x_0 = np.zeros(len_A, dtype=np.float128)\n",
    "    x_1 = -1*np.ones(len_A, dtype=np.float128) # Create -1 np array, just for random\n",
    "    x_0, x_1 = x_1, x_0 # First swap value of 2 solution array\n",
    "    print(matrix_B)\n",
    "    cnt = 0\n",
    "    while np.linalg.norm(x_1 - x_0) > err:\n",
    "        x_0, x_1 = x_1, x_0\n",
    "        x_1 = matrix_d + np.matmul(matrix_B, x_0.transpose())\n",
    "        cnt += 1\n",
    "        print(x_1)\n",
    "    print(f\"Need {cnt} steps\") \n",
    "    return x_1\n",
    "\n",
    "\n",
    "jacobi(matrix_A, matrix_b)"
   ]
  },
  {
   "cell_type": "code",
   "execution_count": 20,
   "metadata": {},
   "outputs": [
    {
     "name": "stdout",
     "output_type": "stream",
     "text": [
      "32\n"
     ]
    }
   ],
   "source": [
    "a = np.array([1,2,3])\n",
    "b = np.array([4,5,6])\n",
    "c = np.matmul(a, b.transpose())\n",
    "print(c)"
   ]
  },
  {
   "cell_type": "code",
   "execution_count": null,
   "metadata": {},
   "outputs": [],
   "source": []
  }
 ],
 "metadata": {
  "kernelspec": {
   "display_name": "Python 3.9.7 ('base')",
   "language": "python",
   "name": "python3"
  },
  "language_info": {
   "codemirror_mode": {
    "name": "ipython",
    "version": 3
   },
   "file_extension": ".py",
   "mimetype": "text/x-python",
   "name": "python",
   "nbconvert_exporter": "python",
   "pygments_lexer": "ipython3",
   "version": "3.9.7"
  },
  "orig_nbformat": 4,
  "vscode": {
   "interpreter": {
    "hash": "1c6177a275554534f533b5ca08c733f2162f41df6c8add0bb941ac8c0b713f94"
   }
  }
 },
 "nbformat": 4,
 "nbformat_minor": 2
}
